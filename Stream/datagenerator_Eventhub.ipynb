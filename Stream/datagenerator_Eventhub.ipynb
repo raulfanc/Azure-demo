{
 "cells": [
  {
   "cell_type": "code",
   "execution_count": null,
   "metadata": {},
   "outputs": [],
   "source": [
    "# We've added the EventHubProducerClient import statement to use the client library.\n",
    "# We've added the CONNECTION_STRING variable to set the connection string for the Event Hub. You will need to replace the \"<your connection string>\" placeholder with your actual connection string.\n",
    "# We've created an instance of the EventHubProducerClient class to send the data to the Event Hub.\n",
    "# We've added the code to generate a JSON object, just like in the local version\n",
    "# We've created an EventData object using the JSON data, and then used the producer's send_batch() method to send the data to the Event Hub.\n",
    "# With these changes, Python function will now send the generated JSON objects to Azure Event Hubs at regular intervals."
   ]
  },
  {
   "cell_type": "code",
   "execution_count": null,
   "metadata": {},
   "outputs": [],
   "source": [
    "import logging\n",
    "import azure.functions as func\n",
    "from azure.eventhub import EventHubProducerClient, EventData\n",
    "import json\n",
    "import random\n",
    "from datetime import datetime, timedelta\n",
    "\n",
    "def main(req: func.HttpRequest) -> func.HttpResponse:\n",
    "    logging.info('Python HTTP trigger function processed a request.')\n",
    "    \n",
    "    # Set the connection string for the Event Hub\n",
    "    CONNECTION_STRING = \"<my connection string>\"\n",
    "\n",
    "    # Create an instance of the EventHubProducerClient class\n",
    "    producer = EventHubProducerClient.from_connection_string(CONNECTION_STRING)\n",
    "\n",
    "    # Generate a JSON object\n",
    "    rego = \"\".join([random.choice(\"ABCDEFGHIJKLMNOPQRSTUVWXYZ\") for _ in range(3)]) + \"\".join([str(random.randint(0, 9)) for _ in range(3)])\n",
    "    brand = random.choice([\"Nissan\", \"Mazda\", \"Toyota\",\"BMW\"])\n",
    "    model = random.choice([\"A\", \"B\", \"C\", \"D\"])\n",
    "    trim = random.choice([1, 2, 3])\n",
    "    year = random.randint(2017, 2022)\n",
    "    odometer = random.randint(1000, 200000)\n",
    "    price = random.randint(5000, 100000)\n",
    "    date_listed = datetime(year, 1, 1) + timedelta(days=random.randint(0, 365))\n",
    "    date_removed = date_listed + timedelta(days=random.randint(1, 365))\n",
    "    data = {\"Rego\": rego, \"Brand\": brand, \"Model\": model, \"Trim\": trim, \"Year\": year,\n",
    "            \"Odometer\": odometer, \"Price\": price, \"Date listed\": str(date_listed), \"Date removed\": str(date_removed)}\n",
    "    \n",
    "    # Send the JSON object to the Event Hub\n",
    "    event_data_batch = producer.create_batch()\n",
    "    event_data_batch.add(EventData(json.dumps(data)))\n",
    "    producer.send_batch(event_data_batch)\n",
    "\n",
    "    return func.HttpResponse(json.dumps(data))\n"
   ]
  }
 ],
 "metadata": {
  "kernelspec": {
   "display_name": "Python 3.9 (tensorflow)",
   "language": "python",
   "name": "tensorflow"
  },
  "language_info": {
   "name": "python",
   "version": "3.9.13"
  },
  "orig_nbformat": 4,
  "vscode": {
   "interpreter": {
    "hash": "d187f2e9dee7598edc4a688ec32edfe3d7a2f237f4345d12f00c29e3ea6101bf"
   }
  }
 },
 "nbformat": 4,
 "nbformat_minor": 2
}
