{
 "cells": [
  {
   "cell_type": "code",
   "execution_count": null,
   "metadata": {},
   "outputs": [],
   "source": [
    "import logging\n",
    "import azure.functions as func\n",
    "\n",
    "import json\n",
    "import random\n",
    "from datetime import datetime, timedelta\n",
    "\n",
    "def main(req: func.HttpRequest) -> func.HttpResponse:\n",
    "    logging.info('Python HTTP trigger function processed a request.')\n",
    "\n",
    "    rego = \"\".join([random.choice(\"ABCDEFGHIJKLMNOPQRSTUVWXYZ\") for _ in range(3)]) + \"\".join([str(random.randint(0, 9)) for _ in range(3)])\n",
    "    brand = random.choice([\"Nissan\", \"Mazda\", \"Toyota\",\"BMW\"])\n",
    "    model = random.choice([\"A\", \"B\", \"C\", \"D\"])\n",
    "    trim = random.choice([1, 2, 3])\n",
    "    year = random.randint(2017, 2022)\n",
    "    odometer = random.randint(1000, 200000)\n",
    "    price = random.randint(5000, 100000)\n",
    "    date_listed = datetime(year, 1, 1) + timedelta(days=random.randint(0, 365))\n",
    "    date_removed = date_listed + timedelta(days=random.randint(1, 365))\n",
    "    data = {\"Rego\": rego, \"Brand\": brand, \"Model\": model, \"Trim\": trim, \"Year\": year,\n",
    "            \"Odometer\": odometer, \"Price\": price, \"Date listed\": str(date_listed), \"Date removed\": str(date_removed)}\n",
    "    \n",
    "    data = json.dumps(data)\n",
    "    return func.HttpResponse(data, mimetype=\"application/json\")"
   ]
  }
 ],
 "metadata": {
  "kernelspec": {
   "display_name": "base",
   "language": "python",
   "name": "python3"
  },
  "language_info": {
   "codemirror_mode": {
    "name": "ipython",
    "version": 3
   },
   "file_extension": ".py",
   "mimetype": "text/x-python",
   "name": "python",
   "nbconvert_exporter": "python",
   "pygments_lexer": "ipython3",
   "version": "3.9.12"
  },
  "orig_nbformat": 4,
  "vscode": {
   "interpreter": {
    "hash": "f8ee6eafcaf5f1fba75fe8e4e80b7d4a7b858ba401deccfb338b4d344a8b63aa"
   }
  }
 },
 "nbformat": 4,
 "nbformat_minor": 2
}
