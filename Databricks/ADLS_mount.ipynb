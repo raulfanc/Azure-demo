{
 "cells": [
  {
   "cell_type": "code",
   "execution_count": null,
   "metadata": {},
   "outputs": [],
   "source": [
    "# Python code to mount and access Azure Data Lake Storage Gen2 Account from Azure Databricks with Service Principal and OAuth\n",
    " \n",
    "# Define the variables used for creating connection strings\n",
    "adlsAccountName = \"demodatalake23020801\"\n",
    "adlsContainerName = \"demo-container\"\n",
    "mountPoint = \"/mnt/bronze\"\n",
    " \n",
    "# Application (Client) ID\n",
    "applicationId = dbutils.secrets.get(scope=\"ADFS\",key=\"ClientID\")\n",
    " \n",
    "# Application (Client) Secret Key\n",
    "authenticationKey = dbutils.secrets.get(scope=\"ADFS\",key=\"ClientSecret\")\n",
    " \n",
    "# Directory (Tenant) ID\n",
    "tenandId = dbutils.secrets.get(scope=\"ADFS\",key=\"TenentID\")\n",
    " \n",
    "endpoint = \"https://login.microsoftonline.com/\" + tenandId + \"/oauth2/token\"\n",
    "source = \"abfss://\" + adlsContainerName + \"@\" + adlsAccountName + \".dfs.core.windows.net/\""
   ]
  },
  {
   "cell_type": "code",
   "execution_count": null,
   "metadata": {},
   "outputs": [],
   "source": [
    "# Connecting using Service Principal secrets and OAuth\n",
    "configs = {\"fs.azure.account.auth.type\": \"OAuth\",\n",
    "           \"fs.azure.account.oauth.provider.type\": \"org.apache.hadoop.fs.azurebfs.oauth2.ClientCredsTokenProvider\",\n",
    "           \"fs.azure.account.oauth2.client.id\": applicationId,\n",
    "           \"fs.azure.account.oauth2.client.secret\": authenticationKey,\n",
    "           \"fs.azure.account.oauth2.client.endpoint\": endpoint}\n",
    " \n",
    "# Mount ADLS Storage to DBFS only if the directory is not already mounted\n",
    "if not any(mount.mountPoint == mountPoint for mount in dbutils.fs.mounts()):\n",
    "  dbutils.fs.mount(\n",
    "    source = source,\n",
    "    mount_point = mountPoint,\n",
    "    extra_configs = configs)"
   ]
  }
 ],
 "metadata": {
  "kernelspec": {
   "display_name": "tensorflow",
   "language": "python",
   "name": "python3"
  },
  "language_info": {
   "name": "python",
   "version": "3.9.13"
  },
  "orig_nbformat": 4,
  "vscode": {
   "interpreter": {
    "hash": "d187f2e9dee7598edc4a688ec32edfe3d7a2f237f4345d12f00c29e3ea6101bf"
   }
  }
 },
 "nbformat": 4,
 "nbformat_minor": 2
}
