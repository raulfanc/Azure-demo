{
 "cells": [
  {
   "cell_type": "code",
   "execution_count": 3,
   "metadata": {},
   "outputs": [],
   "source": [
    "from pyspark.sql.types import StructType, StructField, StringType, IntegerType, ShortType, DateType\n",
    "from pyspark.sql import SparkSession\n",
    "from pyspark.sql.functions import col, datediff\n",
    "\n",
    "spark = SparkSession.builder.appName(\"UsedCarSalesData\").getOrCreate()\n",
    "\n",
    "# define schema (desired `dtypes` and the `order of columns`)\n",
    "\n",
    "schema = StructType([\n",
    "    StructField(\"Rego\", StringType(), True),\n",
    "    StructField(\"Brand\", StringType(), True),\n",
    "    StructField(\"Model\", StringType(), True),\n",
    "    StructField(\"Trim\", StringType(), True),\n",
    "    StructField(\"Year\", ShortType(), True),\n",
    "    StructField(\"Odometer\", IntegerType(), True),\n",
    "    StructField(\"Price\", IntegerType(), True),\n",
    "    StructField(\"Date listed\", DateType(), True),\n",
    "    StructField(\"Date removed\", DateType(), True),\n",
    "    StructField(\"Turnover\", ShortType(), True)\n",
    "])\n",
    "\n",
    "# Spark Join\n",
    "df = spark.read.json(\"raw data/new_listing_*.json\", schema=schema)\n",
    "# Spark Transformation\n",
    "df = df.withColumn(\"Turnover\", datediff(col(\"Date removed\"), col(\"Date listed\")).cast(\"int\"))\n"
   ]
  },
  {
   "cell_type": "code",
   "execution_count": 4,
   "metadata": {},
   "outputs": [
    {
     "name": "stdout",
     "output_type": "stream",
     "text": [
      "+------+------+-----+----+----+--------+-----+-----------+------------+--------+\n",
      "|  Rego| Brand|Model|Trim|Year|Odometer|Price|Date listed|Date removed|Turnover|\n",
      "+------+------+-----+----+----+--------+-----+-----------+------------+--------+\n",
      "|LHZ303|Toyota|    B|   2|2020|  196084|90277| 2020-05-19|  2021-01-27|     253|\n",
      "|NKQ284|Nissan|    A|   2|2020|  188788|50621| 2020-08-14|  2020-08-24|      10|\n",
      "|QAS328|Toyota|    D|   3|2022|  165034|98279| 2022-08-23|  2023-03-26|     215|\n",
      "|FMO676|Toyota|    A|   3|2018|  160474|75542| 2018-05-23|  2018-09-26|     126|\n",
      "|AQQ765|Toyota|    A|   1|2020|  144053|46287| 2020-09-17|  2021-01-06|     111|\n",
      "|NYB555|Nissan|    A|   1|2021|  168031|60009| 2021-11-17|  2022-08-01|     257|\n",
      "|WVX703|Nissan|    B|   1|2017|  185065|27538| 2017-12-13|  2018-07-30|     229|\n",
      "|DWF187|Nissan|    D|   2|2020|  100041|49905| 2020-05-20|  2020-07-16|      57|\n",
      "|KBA540|Toyota|    A|   1|2018|  165656|76923| 2018-07-22|  2018-11-18|     119|\n",
      "|DVH720|Toyota|    B|   2|2020|  146483|47262| 2020-05-19|  2021-03-03|     288|\n",
      "|PLC600|Toyota|    D|   2|2017|  120610|10930| 2017-07-25|  2018-06-20|     330|\n",
      "|PUX600|Toyota|    A|   2|2017|  162750|42381| 2017-07-02|  2017-11-03|     124|\n",
      "|ANU624|Toyota|    D|   3|2020|  164210|34376| 2020-10-11|  2021-01-02|      83|\n",
      "|ZGB126|Toyota|    D|   1|2018|  180506|54622| 2018-10-17|  2019-05-25|     220|\n",
      "|OYH081| Mazda|    A|   2|2018|  148494|56404| 2018-01-17|  2019-01-14|     362|\n",
      "|HFF201|Toyota|    A|   2|2018|   10409|51923| 2019-01-01|  2019-08-11|     222|\n",
      "|TGW670| Mazda|    B|   2|2022|  135451|52286| 2022-05-30|  2022-12-03|     187|\n",
      "|TLK969|Toyota|    C|   2|2019|   23156|36568| 2019-06-04|  2020-05-03|     334|\n",
      "|JFU042|Toyota|    B|   2|2022|   15395|37740| 2022-03-26|  2022-08-11|     138|\n",
      "|AUR315|Nissan|    C|   2|2018|   32299|25165| 2018-08-25|  2019-01-07|     135|\n",
      "+------+------+-----+----+----+--------+-----+-----------+------------+--------+\n",
      "only showing top 20 rows\n",
      "\n"
     ]
    },
    {
     "data": {
      "text/plain": [
       "[('Rego', 'string'),\n",
       " ('Brand', 'string'),\n",
       " ('Model', 'string'),\n",
       " ('Trim', 'string'),\n",
       " ('Year', 'smallint'),\n",
       " ('Odometer', 'int'),\n",
       " ('Price', 'int'),\n",
       " ('Date listed', 'date'),\n",
       " ('Date removed', 'date'),\n",
       " ('Turnover', 'int')]"
      ]
     },
     "execution_count": 4,
     "metadata": {},
     "output_type": "execute_result"
    }
   ],
   "source": [
    "df.show()\n",
    "df.dtypes"
   ]
  },
  {
   "attachments": {},
   "cell_type": "markdown",
   "metadata": {},
   "source": [
    "#### Write the original CSV data into Parquet format"
   ]
  },
  {
   "cell_type": "code",
   "execution_count": null,
   "metadata": {},
   "outputs": [],
   "source": [
    "df.write.parquet(\"silver data\")"
   ]
  }
 ],
 "metadata": {
  "kernelspec": {
   "display_name": "base",
   "language": "python",
   "name": "python3"
  },
  "language_info": {
   "codemirror_mode": {
    "name": "ipython",
    "version": 3
   },
   "file_extension": ".py",
   "mimetype": "text/x-python",
   "name": "python",
   "nbconvert_exporter": "python",
   "pygments_lexer": "ipython3",
   "version": "3.9.12"
  },
  "orig_nbformat": 4,
  "vscode": {
   "interpreter": {
    "hash": "f8ee6eafcaf5f1fba75fe8e4e80b7d4a7b858ba401deccfb338b4d344a8b63aa"
   }
  }
 },
 "nbformat": 4,
 "nbformat_minor": 2
}
