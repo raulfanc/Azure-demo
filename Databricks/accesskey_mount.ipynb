{
 "cells": [
  {
   "attachments": {},
   "cell_type": "markdown",
   "metadata": {},
   "source": [
    "# This code is run on Databricks notebook"
   ]
  },
  {
   "cell_type": "code",
   "execution_count": null,
   "metadata": {},
   "outputs": [],
   "source": [
    "# Access Key to mount and access Azure Data Lake Storage Gen2 \n",
    " \n",
    "# Define the variables used for creating connection strings\n",
    "adlsAccountName = \"demodatalake23020801\"\n",
    "adlsContainerName = \"demo-container\"\n",
    "accessKey = <accesskey_from_sepecific_ADLS>\n",
    "adlsFolderName = \"bronze\"\n",
    "mountPoint = \"/mnt/bronze\""
   ]
  },
  {
   "cell_type": "code",
   "execution_count": null,
   "metadata": {},
   "outputs": [],
   "source": [
    "dbutils.fs.mount(\n",
    "  source = \"wasbs://\" + adlsContainerName + \"@\" + adlsAccountName + \".blob.core.windows.net/\" + adlsFolderName,\n",
    "  mount_point = mountPoint,\n",
    "  extra_configs = {\"fs.azure.account.key.\" + adlsAccountName + \".blob.core.windows.net\":'ntTRTeNT+btriZRlZnfiVOifYio2WRPF7RY/fJKsrm4MM1b5rXKyp1oFWNgLULllaDO1hid1u5cd+ASt3SEDug=='}\n",
    ")\n"
   ]
  }
 ],
 "metadata": {
  "kernelspec": {
   "display_name": "tensorflow",
   "language": "python",
   "name": "python3"
  },
  "language_info": {
   "name": "python",
   "version": "3.9.13"
  },
  "orig_nbformat": 4,
  "vscode": {
   "interpreter": {
    "hash": "d187f2e9dee7598edc4a688ec32edfe3d7a2f237f4345d12f00c29e3ea6101bf"
   }
  }
 },
 "nbformat": 4,
 "nbformat_minor": 2
}
