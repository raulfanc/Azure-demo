{
 "cells": [
  {
   "cell_type": "code",
   "execution_count": 29,
   "metadata": {},
   "outputs": [],
   "source": [
    "# Loading libs\n",
    "from pyspark.sql import SparkSession\n",
    "from pyspark.sql.functions import col, datediff\n",
    "# Start a Spark Session\n",
    "spark = SparkSession.builder.appName(\"UsedCarSalesData\").getOrCreate()"
   ]
  },
  {
   "attachments": {},
   "cell_type": "markdown",
   "metadata": {},
   "source": [
    "##### Spark Join"
   ]
  },
  {
   "cell_type": "code",
   "execution_count": 30,
   "metadata": {},
   "outputs": [
    {
     "name": "stdout",
     "output_type": "stream",
     "text": [
      "+------+-------------------+-------------------+-----+--------+-----+------+----+----+\n",
      "| Brand|        Date listed|       Date removed|Model|Odometer|Price|  Rego|Trim|Year|\n",
      "+------+-------------------+-------------------+-----+--------+-----+------+----+----+\n",
      "|Toyota|2020-05-19 00:00:00|2021-01-27 00:00:00|    B|  196084|90277|LHZ303|   2|2020|\n",
      "|Nissan|2020-08-14 00:00:00|2020-08-24 00:00:00|    A|  188788|50621|NKQ284|   2|2020|\n",
      "| Mazda|2018-01-17 00:00:00|2019-01-14 00:00:00|    A|  148494|56404|OYH081|   2|2018|\n",
      "| Mazda|2021-11-13 00:00:00|2022-08-28 00:00:00|    C|   52619|26233|DBO484|   3|2021|\n",
      "| Mazda|2021-11-28 00:00:00|2022-02-22 00:00:00|    D|   80540|43792|YKO883|   1|2021|\n",
      "|   BMW|2021-01-18 00:00:00|2021-11-24 00:00:00|    B|  189321|96185|RSI941|   2|2021|\n",
      "|   BMW|2019-03-14 00:00:00|2019-08-05 00:00:00|    D|  166892|55935|VGB787|   2|2019|\n",
      "|   BMW|2017-02-08 00:00:00|2017-07-31 00:00:00|    A|   17832|62276|SRT961|   1|2017|\n",
      "|   BMW|2019-07-15 00:00:00|2019-11-16 00:00:00|    B|   55876|76508|SAW182|   3|2019|\n",
      "|   BMW|2021-05-20 00:00:00|2021-05-25 00:00:00|    D|    4874|70629|FMX320|   3|2021|\n",
      "+------+-------------------+-------------------+-----+--------+-----+------+----+----+\n",
      "\n"
     ]
    }
   ],
   "source": [
    "df = spark.read.json(\"raw data/new_listing_*.json\")\n",
    "df.show()"
   ]
  },
  {
   "attachments": {},
   "cell_type": "markdown",
   "metadata": {},
   "source": [
    "#### Spark Transformation"
   ]
  },
  {
   "cell_type": "code",
   "execution_count": 31,
   "metadata": {},
   "outputs": [],
   "source": [
    "# Add the \"turnover\" column with the calculation of [Date removed] - [Date listed] in days\n",
    "df = df.withColumn(\"Turnover\", datediff(col(\"Date removed\"), col(\"Date listed\")).cast(\"int\"))"
   ]
  },
  {
   "cell_type": "code",
   "execution_count": 32,
   "metadata": {},
   "outputs": [
    {
     "name": "stdout",
     "output_type": "stream",
     "text": [
      "+------+-------------------+-------------------+-----+--------+-----+------+----+----+--------+\n",
      "| Brand|        Date listed|       Date removed|Model|Odometer|Price|  Rego|Trim|Year|Turnover|\n",
      "+------+-------------------+-------------------+-----+--------+-----+------+----+----+--------+\n",
      "|Toyota|2020-05-19 00:00:00|2021-01-27 00:00:00|    B|  196084|90277|LHZ303|   2|2020|     253|\n",
      "|Nissan|2020-08-14 00:00:00|2020-08-24 00:00:00|    A|  188788|50621|NKQ284|   2|2020|      10|\n",
      "| Mazda|2018-01-17 00:00:00|2019-01-14 00:00:00|    A|  148494|56404|OYH081|   2|2018|     362|\n",
      "| Mazda|2021-11-13 00:00:00|2022-08-28 00:00:00|    C|   52619|26233|DBO484|   3|2021|     288|\n",
      "| Mazda|2021-11-28 00:00:00|2022-02-22 00:00:00|    D|   80540|43792|YKO883|   1|2021|      86|\n",
      "|   BMW|2021-01-18 00:00:00|2021-11-24 00:00:00|    B|  189321|96185|RSI941|   2|2021|     310|\n",
      "|   BMW|2019-03-14 00:00:00|2019-08-05 00:00:00|    D|  166892|55935|VGB787|   2|2019|     144|\n",
      "|   BMW|2017-02-08 00:00:00|2017-07-31 00:00:00|    A|   17832|62276|SRT961|   1|2017|     173|\n",
      "|   BMW|2019-07-15 00:00:00|2019-11-16 00:00:00|    B|   55876|76508|SAW182|   3|2019|     124|\n",
      "|   BMW|2021-05-20 00:00:00|2021-05-25 00:00:00|    D|    4874|70629|FMX320|   3|2021|       5|\n",
      "+------+-------------------+-------------------+-----+--------+-----+------+----+----+--------+\n",
      "\n"
     ]
    },
    {
     "data": {
      "text/plain": [
       "[('Brand', 'string'),\n",
       " ('Date listed', 'string'),\n",
       " ('Date removed', 'string'),\n",
       " ('Model', 'string'),\n",
       " ('Odometer', 'bigint'),\n",
       " ('Price', 'bigint'),\n",
       " ('Rego', 'string'),\n",
       " ('Trim', 'bigint'),\n",
       " ('Year', 'bigint'),\n",
       " ('Turnover', 'int')]"
      ]
     },
     "execution_count": 32,
     "metadata": {},
     "output_type": "execute_result"
    }
   ],
   "source": [
    "df.show()\n",
    "df.dtypes"
   ]
  },
  {
   "cell_type": "code",
   "execution_count": 33,
   "metadata": {},
   "outputs": [],
   "source": [
    "from pyspark.sql.types import StringType, IntegerType, ShortType\n",
    "from pyspark.sql.types import StringType\n",
    "from pyspark.sql.functions import date_format\n",
    "\n",
    "df = df.withColumn(\"Date listed\", date_format(df[\"Date listed\"], \"yyyy-MM-dd\"))\n",
    "df = df.withColumn(\"Date removed\", date_format(df[\"Date removed\"], \"yyyy-MM-dd\"))\n",
    "df = df.withColumn(\"Rego\", df[\"Rego\"].cast(StringType()))\n",
    "df = df.withColumn(\"Brand\", df[\"Brand\"].cast(StringType()))\n",
    "df = df.withColumn(\"Model\", df[\"Model\"].cast(StringType()))\n",
    "df = df.withColumn(\"Trim\", df[\"Trim\"].cast(StringType()))\n",
    "df = df.withColumn(\"Year\", df[\"Year\"].cast(ShortType()))\n",
    "df = df.withColumn(\"Odometer\", df[\"Odometer\"].cast(IntegerType()))\n",
    "df = df.withColumn(\"Turnover\", df[\"Turnover\"].cast(ShortType()))\n"
   ]
  },
  {
   "cell_type": "code",
   "execution_count": 34,
   "metadata": {},
   "outputs": [
    {
     "name": "stdout",
     "output_type": "stream",
     "text": [
      "+------+-----------+------------+-----+--------+-----+------+----+----+--------+\n",
      "| Brand|Date listed|Date removed|Model|Odometer|Price|  Rego|Trim|Year|Turnover|\n",
      "+------+-----------+------------+-----+--------+-----+------+----+----+--------+\n",
      "|Toyota| 2020-05-19|  2021-01-27|    B|  196084|90277|LHZ303|   2|2020|     253|\n",
      "|Nissan| 2020-08-14|  2020-08-24|    A|  188788|50621|NKQ284|   2|2020|      10|\n",
      "| Mazda| 2018-01-17|  2019-01-14|    A|  148494|56404|OYH081|   2|2018|     362|\n",
      "| Mazda| 2021-11-13|  2022-08-28|    C|   52619|26233|DBO484|   3|2021|     288|\n",
      "| Mazda| 2021-11-28|  2022-02-22|    D|   80540|43792|YKO883|   1|2021|      86|\n",
      "|   BMW| 2021-01-18|  2021-11-24|    B|  189321|96185|RSI941|   2|2021|     310|\n",
      "|   BMW| 2019-03-14|  2019-08-05|    D|  166892|55935|VGB787|   2|2019|     144|\n",
      "|   BMW| 2017-02-08|  2017-07-31|    A|   17832|62276|SRT961|   1|2017|     173|\n",
      "|   BMW| 2019-07-15|  2019-11-16|    B|   55876|76508|SAW182|   3|2019|     124|\n",
      "|   BMW| 2021-05-20|  2021-05-25|    D|    4874|70629|FMX320|   3|2021|       5|\n",
      "+------+-----------+------------+-----+--------+-----+------+----+----+--------+\n",
      "\n"
     ]
    },
    {
     "data": {
      "text/plain": [
       "[('Brand', 'string'),\n",
       " ('Date listed', 'string'),\n",
       " ('Date removed', 'string'),\n",
       " ('Model', 'string'),\n",
       " ('Odometer', 'int'),\n",
       " ('Price', 'bigint'),\n",
       " ('Rego', 'string'),\n",
       " ('Trim', 'string'),\n",
       " ('Year', 'smallint'),\n",
       " ('Turnover', 'smallint')]"
      ]
     },
     "execution_count": 34,
     "metadata": {},
     "output_type": "execute_result"
    }
   ],
   "source": [
    "df.show()\n",
    "df.dtypes"
   ]
  },
  {
   "attachments": {},
   "cell_type": "markdown",
   "metadata": {},
   "source": [
    "#### Write the original CSV data into Parquet format"
   ]
  },
  {
   "cell_type": "code",
   "execution_count": null,
   "metadata": {},
   "outputs": [],
   "source": [
    "df.write.parquet(\"silver data\")"
   ]
  }
 ],
 "metadata": {
  "kernelspec": {
   "display_name": "Python 3.9 (tensorflow)",
   "language": "python",
   "name": "tensorflow"
  },
  "language_info": {
   "codemirror_mode": {
    "name": "ipython",
    "version": 3
   },
   "file_extension": ".py",
   "mimetype": "text/x-python",
   "name": "python",
   "nbconvert_exporter": "python",
   "pygments_lexer": "ipython3",
   "version": "3.9.13"
  },
  "orig_nbformat": 4,
  "vscode": {
   "interpreter": {
    "hash": "d187f2e9dee7598edc4a688ec32edfe3d7a2f237f4345d12f00c29e3ea6101bf"
   }
  }
 },
 "nbformat": 4,
 "nbformat_minor": 2
}
