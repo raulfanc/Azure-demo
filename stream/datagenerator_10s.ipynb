{
 "cells": [
  {
   "cell_type": "code",
   "execution_count": 1,
   "metadata": {},
   "outputs": [
    {
     "ename": "KeyboardInterrupt",
     "evalue": "",
     "output_type": "error",
     "traceback": [
      "\u001b[0;31m---------------------------------------------------------------------------\u001b[0m",
      "\u001b[0;31mKeyboardInterrupt\u001b[0m                         Traceback (most recent call last)",
      "Cell \u001b[0;32mIn [1], line 26\u001b[0m\n\u001b[1;32m     24\u001b[0m \u001b[39mwith\u001b[39;00m \u001b[39mopen\u001b[39m(filename, \u001b[39m\"\u001b[39m\u001b[39mw\u001b[39m\u001b[39m\"\u001b[39m) \u001b[39mas\u001b[39;00m f:\n\u001b[1;32m     25\u001b[0m     json\u001b[39m.\u001b[39mdump(data, f)\n\u001b[0;32m---> 26\u001b[0m time\u001b[39m.\u001b[39;49msleep(\u001b[39m10\u001b[39;49m)\n",
      "\u001b[0;31mKeyboardInterrupt\u001b[0m: "
     ]
    }
   ],
   "source": [
    "import json\n",
    "import random\n",
    "import time\n",
    "from datetime import datetime, timedelta\n",
    "\n",
    "def generate_data():\n",
    "    rego = \"\".join([random.choice(\"ABCDEFGHIJKLMNOPQRSTUVWXYZ\") for _ in range(3)]) + \"\".join([str(random.randint(0, 9)) for _ in range(3)])\n",
    "    brand = random.choice([\"Nissan\", \"Mazda\", \"Toyota\",\"BMW\"])\n",
    "    model = random.choice([\"A\", \"B\", \"C\", \"D\"])\n",
    "    trim = random.choice([1, 2, 3])\n",
    "    year = random.randint(2017, 2022)\n",
    "    odometer = random.randint(1000, 200000)\n",
    "    price = random.randint(5000, 100000)\n",
    "    date_listed = datetime(year, 1, 1) + timedelta(days=random.randint(0, 365))\n",
    "    date_removed = date_listed + timedelta(days=random.randint(1, 365))\n",
    "    \n",
    "    return {\"Rego\": rego, \"Brand\": brand, \"Model\": model, \"Trim\": trim, \"Year\": year,\n",
    "            \"Odometer\": odometer, \"Price\": price, \"Date listed\": str(date_listed), \"Date removed\": str(date_removed)}\n",
    "\n",
    "while True:\n",
    "    data = generate_data()\n",
    "    timestamp = datetime.now().strftime(\"%Y-%m-%d_%H-%M-%S\")\n",
    "    filename = f\"new_listing_{timestamp}.json\"\n",
    "    with open(filename, \"w\") as f:\n",
    "        json.dump(data, f)\n",
    "    time.sleep(2)"
   ]
  },
  {
   "cell_type": "code",
   "execution_count": null,
   "metadata": {},
   "outputs": [],
   "source": []
  }
 ],
 "metadata": {
  "kernelspec": {
   "display_name": "tensorflow",
   "language": "python",
   "name": "python3"
  },
  "language_info": {
   "codemirror_mode": {
    "name": "ipython",
    "version": 3
   },
   "file_extension": ".py",
   "mimetype": "text/x-python",
   "name": "python",
   "nbconvert_exporter": "python",
   "pygments_lexer": "ipython3",
   "version": "3.9.13"
  },
  "orig_nbformat": 4,
  "vscode": {
   "interpreter": {
    "hash": "d187f2e9dee7598edc4a688ec32edfe3d7a2f237f4345d12f00c29e3ea6101bf"
   }
  }
 },
 "nbformat": 4,
 "nbformat_minor": 2
}
