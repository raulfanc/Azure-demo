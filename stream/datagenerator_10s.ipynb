{
 "cells": [
  {
   "cell_type": "code",
   "execution_count": 3,
   "metadata": {},
   "outputs": [
    {
     "ename": "KeyboardInterrupt",
     "evalue": "",
     "output_type": "error",
     "traceback": [
      "\u001b[0;31m---------------------------------------------------------------------------\u001b[0m",
      "\u001b[0;31mKeyboardInterrupt\u001b[0m                         Traceback (most recent call last)",
      "Cell \u001b[0;32mIn [3], line 22\u001b[0m\n\u001b[1;32m     20\u001b[0m \u001b[39mimport\u001b[39;00m \u001b[39mos\u001b[39;00m\n\u001b[1;32m     21\u001b[0m \u001b[39mwhile\u001b[39;00m \u001b[39mTrue\u001b[39;00m:\n\u001b[0;32m---> 22\u001b[0m     data \u001b[39m=\u001b[39m generate_data()\n\u001b[1;32m     23\u001b[0m     timestamp \u001b[39m=\u001b[39m datetime\u001b[39m.\u001b[39mnow()\u001b[39m.\u001b[39mstrftime(\u001b[39m\"\u001b[39m\u001b[39m%\u001b[39m\u001b[39mY-\u001b[39m\u001b[39m%\u001b[39m\u001b[39mm-\u001b[39m\u001b[39m%d\u001b[39;00m\u001b[39m_\u001b[39m\u001b[39m%\u001b[39m\u001b[39mH-\u001b[39m\u001b[39m%\u001b[39m\u001b[39mM-\u001b[39m\u001b[39m%\u001b[39m\u001b[39mS\u001b[39m\u001b[39m\"\u001b[39m)\n\u001b[1;32m     24\u001b[0m     filename \u001b[39m=\u001b[39m \u001b[39mf\u001b[39m\u001b[39m\"\u001b[39m\u001b[39mnew_listing_\u001b[39m\u001b[39m{\u001b[39;00mtimestamp\u001b[39m}\u001b[39;00m\u001b[39m.json\u001b[39m\u001b[39m\"\u001b[39m\n",
      "Cell \u001b[0;32mIn [3], line 7\u001b[0m, in \u001b[0;36mgenerate_data\u001b[0;34m()\u001b[0m\n\u001b[1;32m      6\u001b[0m \u001b[39mdef\u001b[39;00m \u001b[39mgenerate_data\u001b[39m():\n\u001b[0;32m----> 7\u001b[0m     rego \u001b[39m=\u001b[39m \u001b[39m\"\u001b[39m\u001b[39m\"\u001b[39m\u001b[39m.\u001b[39mjoin([random\u001b[39m.\u001b[39mchoice(\u001b[39m\"\u001b[39m\u001b[39mABCDEFGHIJKLMNOPQRSTUVWXYZ\u001b[39m\u001b[39m\"\u001b[39m) \u001b[39mfor\u001b[39;00m _ \u001b[39min\u001b[39;00m \u001b[39mrange\u001b[39m(\u001b[39m3\u001b[39m)]) \u001b[39m+\u001b[39m \u001b[39m\"\u001b[39m\u001b[39m\"\u001b[39m\u001b[39m.\u001b[39mjoin([\u001b[39mstr\u001b[39m(random\u001b[39m.\u001b[39mrandint(\u001b[39m0\u001b[39m, \u001b[39m9\u001b[39m)) \u001b[39mfor\u001b[39;00m _ \u001b[39min\u001b[39;00m \u001b[39mrange\u001b[39m(\u001b[39m3\u001b[39m)])\n\u001b[1;32m      8\u001b[0m     brand \u001b[39m=\u001b[39m random\u001b[39m.\u001b[39mchoice([\u001b[39m\"\u001b[39m\u001b[39mNissan\u001b[39m\u001b[39m\"\u001b[39m, \u001b[39m\"\u001b[39m\u001b[39mMazda\u001b[39m\u001b[39m\"\u001b[39m, \u001b[39m\"\u001b[39m\u001b[39mToyota\u001b[39m\u001b[39m\"\u001b[39m,\u001b[39m\"\u001b[39m\u001b[39mBMW\u001b[39m\u001b[39m\"\u001b[39m])\n\u001b[1;32m      9\u001b[0m     model \u001b[39m=\u001b[39m random\u001b[39m.\u001b[39mchoice([\u001b[39m\"\u001b[39m\u001b[39mA\u001b[39m\u001b[39m\"\u001b[39m, \u001b[39m\"\u001b[39m\u001b[39mB\u001b[39m\u001b[39m\"\u001b[39m, \u001b[39m\"\u001b[39m\u001b[39mC\u001b[39m\u001b[39m\"\u001b[39m, \u001b[39m\"\u001b[39m\u001b[39mD\u001b[39m\u001b[39m\"\u001b[39m])\n",
      "\u001b[0;31mKeyboardInterrupt\u001b[0m: "
     ]
    }
   ],
   "source": [
    "import json\n",
    "import random\n",
    "import time\n",
    "from datetime import datetime, timedelta\n",
    "\n",
    "def generate_data():\n",
    "    rego = \"\".join([random.choice(\"ABCDEFGHIJKLMNOPQRSTUVWXYZ\") for _ in range(3)]) + \"\".join([str(random.randint(0, 9)) for _ in range(3)])\n",
    "    brand = random.choice([\"Nissan\", \"Mazda\", \"Toyota\",\"BMW\"])\n",
    "    model = random.choice([\"A\", \"B\", \"C\", \"D\"])\n",
    "    trim = random.choice([1, 2, 3])\n",
    "    year = random.randint(2017, 2022)\n",
    "    odometer = random.randint(1000, 200000)\n",
    "    price = random.randint(5000, 100000)\n",
    "    date_listed = datetime(year, 1, 1) + timedelta(days=random.randint(0, 365))\n",
    "    date_removed = date_listed + timedelta(days=random.randint(1, 365))\n",
    "    \n",
    "    return {\"Rego\": rego, \"Brand\": brand, \"Model\": model, \"Trim\": trim, \"Year\": year,\n",
    "            \"Odometer\": odometer, \"Price\": price, \"Date listed\": str(date_listed), \"Date removed\": str(date_removed)}\n",
    "\n",
    "import os\n",
    "while True:\n",
    "    data = generate_data()\n",
    "    timestamp = datetime.now().strftime(\"%Y-%m-%d_%H-%M-%S\")\n",
    "    filename = f\"new_listing_{timestamp}.json\"\n",
    "    path = \"raw data\"\n",
    "    if not os.path.exists(path):\n",
    "        os.makedirs(path)\n",
    "    with open(os.path.join(path, filename), \"w\") as f:\n",
    "        json.dump(data, f)\n",
    "    time.sleep(5)    ## generating interval for second"
   ]
  },
  {
   "cell_type": "code",
   "execution_count": null,
   "metadata": {},
   "outputs": [],
   "source": []
  },
  {
   "cell_type": "code",
   "execution_count": null,
   "metadata": {},
   "outputs": [],
   "source": []
  }
 ],
 "metadata": {
  "kernelspec": {
   "display_name": "base",
   "language": "python",
   "name": "python3"
  },
  "language_info": {
   "codemirror_mode": {
    "name": "ipython",
    "version": 3
   },
   "file_extension": ".py",
   "mimetype": "text/x-python",
   "name": "python",
   "nbconvert_exporter": "python",
   "pygments_lexer": "ipython3",
   "version": "3.9.12"
  },
  "orig_nbformat": 4,
  "vscode": {
   "interpreter": {
    "hash": "f8ee6eafcaf5f1fba75fe8e4e80b7d4a7b858ba401deccfb338b4d344a8b63aa"
   }
  }
 },
 "nbformat": 4,
 "nbformat_minor": 2
}
