{
 "cells": [
  {
   "cell_type": "code",
   "execution_count": 6,
   "metadata": {},
   "outputs": [
    {
     "name": "stdout",
     "output_type": "stream",
     "text": [
      "Dummy data is saved to new_listing_08_21_11_11.json\n"
     ]
    }
   ],
   "source": [
    "import json\n",
    "import random\n",
    "import datetime\n",
    "\n",
    "def generate_registration_plate():\n",
    "    letters = ''.join(random.choices(string.ascii_uppercase, k=3))\n",
    "    numbers = ''.join(random.choices(string.digits, k=3))\n",
    "    return letters + numbers\n",
    "\n",
    "def generate_dummy_data(num_rows):\n",
    "    brands = [\"Nissan\", \"Mazda\", \"Merk\", \"Toyota\"]\n",
    "    models = [\"A\", \"B\", \"C\", \"D\"]\n",
    "    trims = [\"T1\", \"T2\", \"T3\", \"T4\"]\n",
    "    years = [2016, 2017, 2018, 2019, 2020, 2021, 2022]\n",
    "    odometers = [10000, 20000, 30000, 40000, 50000, 60000, 70000, 80000, 90000, 100000]\n",
    "    prices = [5000, 6000, 7000, 8000, 9000, 10000, 11000, 12000, 13000, 14000, 15000]\n",
    "    dates = [datetime.date(2010, 1, 1), datetime.date(2011, 1, 1), datetime.date(2012, 1, 1), datetime.date(2013, 1, 1), datetime.date(2014, 1, 1), datetime.date(2015, 1, 1), datetime.date(2016, 1, 1)]\n",
    "    \n",
    "    data = []\n",
    "    for i in range(num_rows):\n",
    "        brand = random.choice(brands)\n",
    "        model = random.choice(models)\n",
    "        trim = random.choice(trims)\n",
    "        year = random.choice(years)\n",
    "        odometer = random.choice(odometers)\n",
    "        price = random.choice(prices)\n",
    "        date_listed = random.choice(dates)\n",
    "        date_removed = date_listed + datetime.timedelta(days=random.randint(30, 365))\n",
    "        rego = generate_registration_plate()\n",
    "        data.append([rego, brand, model, trim, year, odometer, price, date_listed, date_removed])\n",
    "\n",
    "# Get current time\n",
    "now = datetime.datetime.now()\n",
    "\n",
    "# Generate file name with time stamp\n",
    "file_name = f\"new_listing_{now.strftime('%d_%H_%M_%S')}.json\"\n",
    "\n",
    "# Save data to a JSON file\n",
    "with open(file_name, 'w') as outfile:\n",
    "    json.dump(data, outfile)\n",
    "\n",
    "print(f\"Dummy data is saved to {file_name}\")\n"
   ]
  },
  {
   "cell_type": "code",
   "execution_count": 9,
   "metadata": {},
   "outputs": [
    {
     "name": "stdout",
     "output_type": "stream",
     "text": [
      "{'Rego': 'WAVJXW', 'Brand': 'BMW', 'Model': 'B', 'Trim': 2, 'Year': 2020, 'Odometer': 82484, 'Price': 17600, 'Date_listed': 2021, 'Date_removed': 2021}\n"
     ]
    }
   ],
   "source": [
    "with open(\"new_listing_08_21_03_44.JSON\", \"r\") as file:\n",
    "    # Load the JSON data from the file\n",
    "    data = json.load(file)\n",
    "\n",
    "# You can now access the data in the JSON file\n",
    "print(data)"
   ]
  }
 ],
 "metadata": {
  "kernelspec": {
   "display_name": "base",
   "language": "python",
   "name": "python3"
  },
  "language_info": {
   "codemirror_mode": {
    "name": "ipython",
    "version": 3
   },
   "file_extension": ".py",
   "mimetype": "text/x-python",
   "name": "python",
   "nbconvert_exporter": "python",
   "pygments_lexer": "ipython3",
   "version": "3.9.12"
  },
  "orig_nbformat": 4,
  "vscode": {
   "interpreter": {
    "hash": "f8ee6eafcaf5f1fba75fe8e4e80b7d4a7b858ba401deccfb338b4d344a8b63aa"
   }
  }
 },
 "nbformat": 4,
 "nbformat_minor": 2
}
