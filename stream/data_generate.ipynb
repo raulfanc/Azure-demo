{
 "cells": [
  {
   "cell_type": "code",
   "execution_count": 6,
   "metadata": {},
   "outputs": [
    {
     "name": "stdout",
     "output_type": "stream",
     "text": [
      "Dummy data is saved to new_listing_08_21_11_11.json\n"
     ]
    }
   ],
   "source": [
    "import json\n",
    "import random\n",
    "import datetime\n",
    "\n",
    "def generate_registration_plate():\n",
    "    letters = ''.join(random.choices(string.ascii_uppercase, k=3))\n",
    "    numbers = ''.join(random.choices(string.digits, k=3))\n",
    "    return letters + numbers\n",
    "\n",
    "def generate_dummy_data(num_rows):\n",
    "    brands = [\"Nissan\", \"Mazda\", \"Merk\", \"Toyota\"]\n",
    "    models = [\"A\", \"B\", \"C\", \"D\"]\n",
    "    trims = [\"T1\", \"T2\", \"T3\", \"T4\"]\n",
    "    years = [2016, 2017, 2018, 2019, 2020, 2021, 2022]\n",
    "    odometers = [10000, 20000, 30000, 40000, 50000, 60000, 70000, 80000, 90000, 100000]\n",
    "    prices = [5000, 6000, 7000, 8000, 9000, 10000, 11000, 12000, 13000, 14000, 15000]\n",
    "    dates = [datetime.date(2010, 1, 1), datetime.date(2011, 1, 1), datetime.date(2012, 1, 1), datetime.date(2013, 1, 1), datetime.date(2014, 1, 1), datetime.date(2015, 1, 1), datetime.date(2016, 1, 1)]\n",
    "    \n",
    "    data = []\n",
    "    for i in range(num_rows):\n",
    "        brand = random.choice(brands)\n",
    "        model = random.choice(models)\n",
    "        trim = random.choice(trims)\n",
    "        year = random.choice(years)\n",
    "        odometer = random.choice(odometers)\n",
    "        price = random.choice(prices)\n",
    "        date_listed = random.choice(dates)\n",
    "        date_removed = date_listed + datetime.timedelta(days=random.randint(30, 365))\n",
    "        rego = generate_registration_plate()\n",
    "        data.append([rego, brand, model, trim, year, odometer, price, date_listed, date_removed])\n",
    "\n",
    "# Get current time\n",
    "now = datetime.datetime.now()\n",
    "\n",
    "# Generate file name with time stamp\n",
    "file_name = f\"new_listing_{now.strftime('%d_%H_%M_%S')}.json\"\n",
    "\n",
    "# Save data to a JSON file\n",
    "with open(file_name, 'w') as outfile:\n",
    "    json.dump(data, outfile)\n",
    "\n",
    "print(f\"Dummy data is saved to {file_name}\")\n"
   ]
  },
  {
   "cell_type": "code",
   "execution_count": 9,
   "metadata": {},
   "outputs": [
    {
     "name": "stdout",
     "output_type": "stream",
     "text": [
      "{'Rego': 'WAVJXW', 'Brand': 'BMW', 'Model': 'B', 'Trim': 2, 'Year': 2020, 'Odometer': 82484, 'Price': 17600, 'Date_listed': 2021, 'Date_removed': 2021}\n"
     ]
    }
   ],
   "source": [
    "with open(\"new_listing_08_21_03_44.JSON\", \"r\") as file:\n",
    "    # Load the JSON data from the file\n",
    "    data = json.load(file)\n",
    "\n",
    "# You can now access the data in the JSON file\n",
    "print(data)"
   ]
  },
  {
   "cell_type": "code",
   "execution_count": 11,
   "metadata": {},
   "outputs": [
    {
     "ename": "AttributeError",
     "evalue": "type object 'datetime.datetime' has no attribute 'datetime'",
     "output_type": "error",
     "traceback": [
      "\u001b[0;31m---------------------------------------------------------------------------\u001b[0m",
      "\u001b[0;31mAttributeError\u001b[0m                            Traceback (most recent call last)",
      "Cell \u001b[0;32mIn [11], line 67\u001b[0m\n\u001b[1;32m     54\u001b[0m         \u001b[39mreturn\u001b[39;00m {\n\u001b[1;32m     55\u001b[0m             \u001b[39m'\u001b[39m\u001b[39mRego\u001b[39m\u001b[39m'\u001b[39m: rego,\n\u001b[1;32m     56\u001b[0m             \u001b[39m'\u001b[39m\u001b[39mBrand\u001b[39m\u001b[39m'\u001b[39m: brand,\n\u001b[0;32m   (...)\u001b[0m\n\u001b[1;32m     63\u001b[0m             \u001b[39m'\u001b[39m\u001b[39mDate removed\u001b[39m\u001b[39m'\u001b[39m: date_removed\n\u001b[1;32m     64\u001b[0m         }\n\u001b[1;32m     66\u001b[0m \u001b[39m# Get current time\u001b[39;00m\n\u001b[0;32m---> 67\u001b[0m now \u001b[39m=\u001b[39m datetime\u001b[39m.\u001b[39;49mdatetime\u001b[39m.\u001b[39mnow()\n\u001b[1;32m     69\u001b[0m \u001b[39m# Generate file name with time stamp\u001b[39;00m\n\u001b[1;32m     70\u001b[0m file_name \u001b[39m=\u001b[39m \u001b[39mf\u001b[39m\u001b[39m\"\u001b[39m\u001b[39mnew_listing_\u001b[39m\u001b[39m{\u001b[39;00mnow\u001b[39m.\u001b[39mstrftime(\u001b[39m'\u001b[39m\u001b[39m%d\u001b[39;00m\u001b[39m_\u001b[39m\u001b[39m%\u001b[39m\u001b[39mH_\u001b[39m\u001b[39m%\u001b[39m\u001b[39mM_\u001b[39m\u001b[39m%\u001b[39m\u001b[39mS\u001b[39m\u001b[39m'\u001b[39m)\u001b[39m}\u001b[39;00m\u001b[39m.json\u001b[39m\u001b[39m\"\u001b[39m\n",
      "\u001b[0;31mAttributeError\u001b[0m: type object 'datetime.datetime' has no attribute 'datetime'"
     ]
    }
   ],
   "source": [
    "import random\n",
    "import json\n",
    "import time\n",
    "from datetime import datetime, timedelta\n",
    "\n",
    "def generate_car_sales_data():\n",
    "    # Define the list of car brands\n",
    "    brands = ['Nissan', 'Mazda', 'Toyota', 'Honda', 'Ford']\n",
    "    \n",
    "    # Define the list of car models\n",
    "    models = ['A', 'B', 'C', 'D', 'E', 'F']\n",
    "    \n",
    "    # Define the range of years\n",
    "    years = list(range(2017, 2023))\n",
    "    \n",
    "    # Define the range of odometers\n",
    "    odometers = list(range(1000, 200000))\n",
    "    \n",
    "    # Define the range of prices\n",
    "    prices = list(range(5000, 100000))\n",
    "    \n",
    "    # Define the list of trims\n",
    "    trims = [1, 2, 3, 4, 5]\n",
    "    \n",
    "    # Define the function to generate a random car sales data\n",
    "    def generate_random_car_sales():\n",
    "        # Generate the random car brand\n",
    "        brand = random.choice(brands)\n",
    "        \n",
    "        # Generate the random car model\n",
    "        model = random.choice(models)\n",
    "        \n",
    "        # Generate the random year\n",
    "        year = random.choice(years)\n",
    "        \n",
    "        # Generate the random odometer\n",
    "        odometer = random.choice(odometers)\n",
    "        \n",
    "        # Generate the random price\n",
    "        price = random.choice(prices)\n",
    "        \n",
    "        # Generate the random trim\n",
    "        trim = random.choice(trims)\n",
    "        \n",
    "        # Generate the random date listed\n",
    "        date_listed = str(datetime(year, 1, 1) + timedelta(days=random.randint(1, 365)))\n",
    "        \n",
    "        # Generate the random date removed\n",
    "        date_removed = str(datetime.strptime(date_listed, '%Y-%m-%d %H:%M:%S') + timedelta(days=random.randint(1, 365)))\n",
    "        \n",
    "        # Generate the random registration number\n",
    "        rego = ''.join(random.choices([chr(i) for i in range(97, 123)], k=3)) + ''.join(str(random.randint(0, 9)) for i in range(3))\n",
    "        \n",
    "        return {\n",
    "            'Rego': rego,\n",
    "            'Brand': brand,\n",
    "            'Model': model,\n",
    "            'Trim': trim,\n",
    "            'Year': year,\n",
    "            'Odometer': odometer,\n",
    "            'Price': price,\n",
    "            'Date listed': date_listed,\n",
    "            'Date removed': date_removed\n",
    "        }\n",
    "    \n",
    "# Get current time\n",
    "now = datetime.datetime.now()\n",
    "\n",
    "# Generate file name with time stamp\n",
    "file_name = f\"new_listing_{now.strftime('%d_%H_%M_%S')}.json\"\n",
    "\n",
    "# Save data to a JSON file\n",
    "with open(file_name, 'w') as outfile:\n",
    "    json.dump(data, outfile)\n",
    "\n",
    "print(f\"Dummy data is saved to {file_name}\")\n",
    "\n",
    "\n",
    "\n",
    "#     # Generate the random car sales data\n",
    "#     car_sales_data = [generate_random_car_sales() for i in range(3)]\n",
    "    \n",
    "#     # Write the car sales data to a JSON file\n",
    "#     with open(f'new_listing_{current_timestamp}.json', 'w') as f:\n",
    "#         json.dump(car_sales_data)\n",
    "\n",
    "# print(f\"Dummy data is saved to {file_name}\")\n"
   ]
  },
  {
   "cell_type": "code",
   "execution_count": null,
   "metadata": {},
   "outputs": [],
   "source": []
  }
 ],
 "metadata": {
  "kernelspec": {
   "display_name": "base",
   "language": "python",
   "name": "python3"
  },
  "language_info": {
   "codemirror_mode": {
    "name": "ipython",
    "version": 3
   },
   "file_extension": ".py",
   "mimetype": "text/x-python",
   "name": "python",
   "nbconvert_exporter": "python",
   "pygments_lexer": "ipython3",
   "version": "3.9.12"
  },
  "orig_nbformat": 4,
  "vscode": {
   "interpreter": {
    "hash": "f8ee6eafcaf5f1fba75fe8e4e80b7d4a7b858ba401deccfb338b4d344a8b63aa"
   }
  }
 },
 "nbformat": 4,
 "nbformat_minor": 2
}
